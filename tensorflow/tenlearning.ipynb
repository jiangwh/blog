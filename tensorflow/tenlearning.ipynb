{
 "cells": [
  {
   "cell_type": "markdown",
   "id": "cf906436",
   "metadata": {},
   "source": [
    "# 使用tensorflow的dataset加载数据"
   ]
  },
  {
   "cell_type": "code",
   "execution_count": 1,
   "id": "d7dde90b",
   "metadata": {},
   "outputs": [
    {
     "data": {
      "text/plain": [
       "'2.9.0'"
      ]
     },
     "execution_count": 1,
     "metadata": {},
     "output_type": "execute_result"
    }
   ],
   "source": [
    "import tensorflow as tf\n",
    "tf.__version__"
   ]
  },
  {
   "cell_type": "markdown",
   "id": "92756494",
   "metadata": {},
   "source": [
    "```\n",
    "List列表数据\n",
    "```"
   ]
  },
  {
   "cell_type": "code",
   "execution_count": 2,
   "id": "8f12059b",
   "metadata": {},
   "outputs": [
    {
     "name": "stdout",
     "output_type": "stream",
     "text": [
      "Metal device set to: Apple M1\n",
      "tf.Tensor(1, shape=(), dtype=int32)\n",
      "tf.Tensor(2, shape=(), dtype=int32)\n",
      "tf.Tensor(3, shape=(), dtype=int32)\n"
     ]
    },
    {
     "name": "stderr",
     "output_type": "stream",
     "text": [
      "2022-05-29 10:17:57.990768: I tensorflow/core/common_runtime/pluggable_device/pluggable_device_factory.cc:305] Could not identify NUMA node of platform GPU ID 0, defaulting to 0. Your kernel may not have been built with NUMA support.\n",
      "2022-05-29 10:17:57.990979: I tensorflow/core/common_runtime/pluggable_device/pluggable_device_factory.cc:271] Created TensorFlow device (/job:localhost/replica:0/task:0/device:GPU:0 with 0 MB memory) -> physical PluggableDevice (device: 0, name: METAL, pci bus id: <undefined>)\n"
     ]
    }
   ],
   "source": [
    "\n",
    "#tensorflow list\n",
    "dataset = tf.data.Dataset.from_tensor_slices([1,2,3])\n",
    "for e in dataset:\n",
    "    print(e)"
   ]
  },
  {
   "cell_type": "code",
   "execution_count": 3,
   "id": "3b4dc507",
   "metadata": {},
   "outputs": [
    {
     "name": "stderr",
     "output_type": "stream",
     "text": [
      "2022-05-29 10:18:03.345366: W tensorflow/core/platform/profile_utils/cpu_utils.cc:128] Failed to get CPU frequency: 0 Hz\n"
     ]
    },
    {
     "data": {
      "text/plain": [
       "[(1, array([1])), (2, array([1, 1])), (3, array([1, 1, 1]))]"
      ]
     },
     "execution_count": 3,
     "metadata": {},
     "output_type": "execute_result"
    }
   ],
   "source": [
    "# tensorflow 数据生成器\n",
    "import itertools\n",
    "def gen():\n",
    "    for i in itertools.count(1):\n",
    "        yield(i,[1]*i)\n",
    "\n",
    "dataset = tf.data.Dataset.from_generator(gen,(tf.int64,tf.int64),(tf.TensorShape([]),tf.TensorShape([None])))\n",
    "list(dataset.take(3).as_numpy_iterator())"
   ]
  },
  {
   "cell_type": "markdown",
   "id": "a6e1e866",
   "metadata": {},
   "source": [
    "```文本文件的处理```"
   ]
  },
  {
   "cell_type": "code",
   "execution_count": null,
   "id": "4e36d762",
   "metadata": {},
   "outputs": [],
   "source": [
    "import os\n",
    "def labeler(example,index):\n",
    "    return example,tf.cast(index,tf.int64)\n",
    "labeled_datasets = []\n"
   ]
  }
 ],
 "metadata": {
  "kernelspec": {
   "display_name": "Python 3 (ipykernel)",
   "language": "python",
   "name": "python3"
  },
  "language_info": {
   "codemirror_mode": {
    "name": "ipython",
    "version": 3
   },
   "file_extension": ".py",
   "mimetype": "text/x-python",
   "name": "python",
   "nbconvert_exporter": "python",
   "pygments_lexer": "ipython3",
   "version": "3.9.0"
  }
 },
 "nbformat": 4,
 "nbformat_minor": 5
}
